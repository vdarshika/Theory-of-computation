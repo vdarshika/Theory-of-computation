{
 "cells": [
  {
   "cell_type": "markdown",
   "metadata": {},
   "source": [
    "*Machine that accepts three consecutive 1's*"
   ]
  },
  {
   "cell_type": "code",
   "execution_count": 1,
   "metadata": {},
   "outputs": [
    {
     "name": "stdin",
     "output_type": "stream",
     "text": [
      "enter a string 101010\n"
     ]
    },
    {
     "name": "stdout",
     "output_type": "stream",
     "text": [
      "not accept\n"
     ]
    }
   ],
   "source": [
    "dfa=dict()\n",
    "dfa[(0,'0')]=0\n",
    "dfa[(0,'1')]=1\n",
    "dfa[(1,'0')]=0\n",
    "dfa[(1,'1')]=2\n",
    "dfa[(2,'0')]=0\n",
    "dfa[(2,'1')]=3\n",
    "dfa[(3,'1')]=3\n",
    "dfa[(3,'0')]=3\n",
    "st=input(\"enter a string\")\n",
    "class Dfa1:\n",
    "    def __init__(self):\n",
    "        self.current_state=0\n",
    "        self.final_state=3\n",
    "    def moves(self,st):\n",
    "        for i in st:\n",
    "            self.current_state=dfa[(self.current_state,i)]\n",
    "        if(self.current_state==self.final_state):\n",
    "            print(\"accept\")\n",
    "        else:\n",
    "            print(\"not accept\")\n",
    "ob=Dfa1()\n",
    "ob.moves(st)"
   ]
  },
  {
   "cell_type": "code",
   "execution_count": 2,
   "metadata": {},
   "outputs": [
    {
     "name": "stdin",
     "output_type": "stream",
     "text": [
      "enter a string 1011101110\n"
     ]
    },
    {
     "name": "stdout",
     "output_type": "stream",
     "text": [
      "accept\n"
     ]
    }
   ],
   "source": [
    "dfa=dict()\n",
    "dfa[(0,'0')]=0\n",
    "dfa[(0,'1')]=1\n",
    "dfa[(1,'0')]=0\n",
    "dfa[(1,'1')]=2\n",
    "dfa[(2,'0')]=0\n",
    "dfa[(2,'1')]=3\n",
    "dfa[(3,'1')]=3\n",
    "dfa[(3,'0')]=3\n",
    "st=input(\"enter a string\")\n",
    "class Dfa1:\n",
    "    def __init__(self):\n",
    "        self.current_state=0\n",
    "        self.final_state=3\n",
    "    def moves(self,st):\n",
    "        for i in st:\n",
    "            self.current_state=dfa[(self.current_state,i)]\n",
    "        if(self.current_state==self.final_state):\n",
    "            print(\"accept\")\n",
    "        else:\n",
    "            print(\"not accept\")\n",
    "ob=Dfa1()\n",
    "ob.moves(st)"
   ]
  },
  {
   "cell_type": "markdown",
   "metadata": {},
   "source": [
    "*Machine that accepts a string that ends in 101* "
   ]
  },
  {
   "cell_type": "code",
   "execution_count": 3,
   "metadata": {},
   "outputs": [
    {
     "name": "stdin",
     "output_type": "stream",
     "text": [
      "enter a string 1010101110\n"
     ]
    },
    {
     "name": "stdout",
     "output_type": "stream",
     "text": [
      "not accept\n"
     ]
    }
   ],
   "source": [
    "dfa=dict()\n",
    "dfa[(0,'0')]=0\n",
    "dfa[(0,'1')]=1\n",
    "dfa[(1,'0')]=2\n",
    "dfa[(1,'1')]=1\n",
    "dfa[(2,'0')]=0\n",
    "dfa[(2,'1')]=3\n",
    "dfa[(3,'1')]=1\n",
    "dfa[(3,'0')]=2\n",
    "st=input(\"enter a string\")\n",
    "class Dfa1:\n",
    "    def __init__(self):\n",
    "        self.current_state=0\n",
    "        self.final_state=3\n",
    "    def moves(self,st):\n",
    "        for i in st:\n",
    "            self.current_state=dfa[(self.current_state,i)]\n",
    "        if(self.current_state==self.final_state):\n",
    "            print(\"accept\")\n",
    "        else:\n",
    "            print(\"not accept\")\n",
    "ob=Dfa1()\n",
    "ob.moves(st)"
   ]
  },
  {
   "cell_type": "code",
   "execution_count": 4,
   "metadata": {},
   "outputs": [
    {
     "name": "stdin",
     "output_type": "stream",
     "text": [
      "enter a string 11111011101\n"
     ]
    },
    {
     "name": "stdout",
     "output_type": "stream",
     "text": [
      "accept\n"
     ]
    }
   ],
   "source": [
    "dfa=dict()\n",
    "dfa[(0,'0')]=0\n",
    "dfa[(0,'1')]=1\n",
    "dfa[(1,'0')]=2\n",
    "dfa[(1,'1')]=1\n",
    "dfa[(2,'0')]=0\n",
    "dfa[(2,'1')]=3\n",
    "dfa[(3,'1')]=1\n",
    "dfa[(3,'0')]=2\n",
    "st=input(\"enter a string\")\n",
    "class Dfa1:\n",
    "    def __init__(self):\n",
    "        self.current_state=0\n",
    "        self.final_state=3\n",
    "    def moves(self,st):\n",
    "        for i in st:\n",
    "            self.current_state=dfa[(self.current_state,i)]\n",
    "        if(self.current_state==self.final_state):\n",
    "            print(\"accept\")\n",
    "        else:\n",
    "            print(\"not accept\")\n",
    "ob=Dfa1()\n",
    "ob.moves(st)"
   ]
  },
  {
   "cell_type": "markdown",
   "metadata": {},
   "source": [
    "*Machine that accepts a string of length of multiple of 3(Mod 3 Machine)*"
   ]
  },
  {
   "cell_type": "code",
   "execution_count": 5,
   "metadata": {},
   "outputs": [
    {
     "name": "stdin",
     "output_type": "stream",
     "text": [
      "enter a string aabbbbbbbab\n"
     ]
    },
    {
     "name": "stdout",
     "output_type": "stream",
     "text": [
      "Length of string= 11\n",
      "not accept\n"
     ]
    }
   ],
   "source": [
    "dfa=dict()\n",
    "dfa[(0,'a')]=1\n",
    "dfa[(0,'b')]=1\n",
    "dfa[(1,'a')]=2\n",
    "dfa[(1,'b')]=2\n",
    "dfa[(2,'a')]=0\n",
    "dfa[(2,'b')]=0\n",
    "st=input(\"enter a string\")\n",
    "print(\"Length of string=\",len(st))\n",
    "class Mod3_machine:\n",
    "    def __init__(self):\n",
    "        self.current_state=0\n",
    "        self.final_state=0\n",
    "    def moves(self,st):\n",
    "        for i in st:\n",
    "            self.current_state=dfa[(self.current_state,i)]\n",
    "        if(self.current_state==self.final_state):\n",
    "            print(\"accept\")\n",
    "        else:\n",
    "            print(\"not accept\")\n",
    "ob=Mod3_machine()\n",
    "ob.moves(st)"
   ]
  },
  {
   "cell_type": "code",
   "execution_count": 6,
   "metadata": {},
   "outputs": [
    {
     "name": "stdin",
     "output_type": "stream",
     "text": [
      "enter a string abbabbbab\n"
     ]
    },
    {
     "name": "stdout",
     "output_type": "stream",
     "text": [
      "Length of string= 9\n",
      "accept\n"
     ]
    }
   ],
   "source": [
    "dfa=dict()\n",
    "dfa[(0,'a')]=1\n",
    "dfa[(0,'b')]=1\n",
    "dfa[(1,'a')]=2\n",
    "dfa[(1,'b')]=2\n",
    "dfa[(2,'a')]=0\n",
    "dfa[(2,'b')]=0\n",
    "st=input(\"enter a string\")\n",
    "print(\"Length of string=\",len(st))\n",
    "class Mod3_machine:\n",
    "    def __init__(self):\n",
    "        self.current_state=0\n",
    "        self.final_state=0\n",
    "    def moves(self,st):\n",
    "        for i in st:\n",
    "            self.current_state=dfa[(self.current_state,i)]\n",
    "        if(self.current_state==self.final_state):\n",
    "            print(\"accept\")\n",
    "        else:\n",
    "            print(\"not accept\")\n",
    "ob=Mod3_machine()\n",
    "ob.moves(st)"
   ]
  },
  {
   "cell_type": "markdown",
   "metadata": {},
   "source": [
    "* Machine that accepts a string with equal number of 0's and 1's*"
   ]
  },
  {
   "cell_type": "code",
   "execution_count": 8,
   "metadata": {},
   "outputs": [
    {
     "name": "stdin",
     "output_type": "stream",
     "text": [
      "enter a string 1110\n"
     ]
    },
    {
     "name": "stdout",
     "output_type": "stream",
     "text": [
      "not accept\n"
     ]
    }
   ],
   "source": [
    "dfa=dict()\n",
    "dfa[(0,'0')]=3\n",
    "dfa[(0,'1')]=1\n",
    "dfa[(1,'0')]=0\n",
    "dfa[(1,'1')]=2\n",
    "dfa[(2,'0')]=1\n",
    "dfa[(2,'1')]=3\n",
    "dfa[(3,'0')]=2\n",
    "dfa[(3,'1')]=0\n",
    "st=input(\"enter a string\")\n",
    "class Dfa:\n",
    "    def __init__(self):\n",
    "        self.current_state=0\n",
    "        self.final_state=0\n",
    "    def moves(self,st):\n",
    "        for i in st:\n",
    "            self.current_state=dfa[(self.current_state,i)]\n",
    "        if(self.current_state==self.final_state):\n",
    "            print(\"accept\")\n",
    "        else:\n",
    "            print(\"not accept\")\n",
    "ob=Dfa()\n",
    "ob.moves(st)"
   ]
  },
  {
   "cell_type": "code",
   "execution_count": 9,
   "metadata": {},
   "outputs": [
    {
     "name": "stdin",
     "output_type": "stream",
     "text": [
      "enter a string 11001100\n"
     ]
    },
    {
     "name": "stdout",
     "output_type": "stream",
     "text": [
      "accept\n"
     ]
    }
   ],
   "source": [
    "dfa=dict()\n",
    "dfa[(0,'0')]=3\n",
    "dfa[(0,'1')]=1\n",
    "dfa[(1,'0')]=0\n",
    "dfa[(1,'1')]=2\n",
    "dfa[(2,'0')]=1\n",
    "dfa[(2,'1')]=3\n",
    "dfa[(3,'0')]=2\n",
    "dfa[(3,'1')]=0\n",
    "st=input(\"enter a string\")\n",
    "class Dfa:\n",
    "    def __init__(self):\n",
    "        self.current_state=0\n",
    "        self.final_state=0\n",
    "    def moves(self,st):\n",
    "        for i in st:\n",
    "            self.current_state=dfa[(self.current_state,i)]\n",
    "        if(self.current_state==self.final_state):\n",
    "            print(\"accept\")\n",
    "        else:\n",
    "            print(\"not accept\")\n",
    "ob=Dfa()\n",
    "ob.moves(st)"
   ]
  },
  {
   "cell_type": "code",
   "execution_count": null,
   "metadata": {},
   "outputs": [],
   "source": []
  }
 ],
 "metadata": {
  "kernelspec": {
   "display_name": "Python 3",
   "language": "python",
   "name": "python3"
  },
  "language_info": {
   "codemirror_mode": {
    "name": "ipython",
    "version": 3
   },
   "file_extension": ".py",
   "mimetype": "text/x-python",
   "name": "python",
   "nbconvert_exporter": "python",
   "pygments_lexer": "ipython3",
   "version": "3.7.3"
  }
 },
 "nbformat": 4,
 "nbformat_minor": 4
}
