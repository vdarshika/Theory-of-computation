{
 "cells": [
  {
   "cell_type": "markdown",
   "metadata": {},
   "source": [
    "* Dfa for even number of a's and b's*"
   ]
  },
  {
   "cell_type": "code",
   "execution_count": 4,
   "metadata": {},
   "outputs": [
    {
     "name": "stdin",
     "output_type": "stream",
     "text": [
      "enter a string aabbaa\n"
     ]
    },
    {
     "name": "stdout",
     "output_type": "stream",
     "text": [
      "accept\n"
     ]
    }
   ],
   "source": [
    "dfa={0:{'a':1,'b':2}, 1:{'a':0,'b':3} ,2:{'a':3 , 'b':0},3:{'a':2,'b':1}}\n",
    "st=input(\"enter a string\")\n",
    "def s(st):\n",
    "    current_state=0\n",
    "    final_state=0\n",
    "    for i in st:\n",
    "        current_state=dfa[current_state][i]\n",
    "    if(current_state==final_state):\n",
    "        print(\"accept\")\n",
    "    else:\n",
    "        print(\"not accept\")\n",
    "s(st)\n"
   ]
  },
  {
   "cell_type": "code",
   "execution_count": 5,
   "metadata": {},
   "outputs": [
    {
     "name": "stdin",
     "output_type": "stream",
     "text": [
      "enter a string abb\n"
     ]
    },
    {
     "name": "stdout",
     "output_type": "stream",
     "text": [
      "not accept\n"
     ]
    }
   ],
   "source": [
    "dfa={0:{'a':1,'b':2}, 1:{'a':0,'b':3} ,2:{'a':3 , 'b':0},3:{'a':2,'b':1}}\n",
    "st=input(\"enter a string\")\n",
    "def s(st):\n",
    "    current_state=0\n",
    "    final_state=0\n",
    "    for i in st:\n",
    "        current_state=dfa[current_state][i]\n",
    "    if(current_state==final_state):\n",
    "        print(\"accept\")\n",
    "    else:\n",
    "        print(\"not accept\")\n",
    "s(st)\n"
   ]
  },
  {
   "cell_type": "markdown",
   "metadata": {},
   "source": [
    "*DFA to accept string starting with a*"
   ]
  },
  {
   "cell_type": "code",
   "execution_count": 1,
   "metadata": {},
   "outputs": [
    {
     "name": "stdin",
     "output_type": "stream",
     "text": [
      "enter a string aabbb\n"
     ]
    },
    {
     "name": "stdout",
     "output_type": "stream",
     "text": [
      "accept\n"
     ]
    }
   ],
   "source": [
    "dfa=dict()\n",
    "dfa[(0,'a')]=1\n",
    "dfa[(0,'b')]=2\n",
    "dfa[(1,'a')]=1\n",
    "dfa[(1,'b')]=1\n",
    "dfa[(2,'a')]=2\n",
    "dfa[(2,'b')]=2\n",
    "st=input(\"enter a string\")\n",
    "def s(st):\n",
    "    cs=0\n",
    "    fs=1\n",
    "    for i in st:\n",
    "        cs=dfa[(cs,i)]\n",
    "    if(cs==fs):\n",
    "        print(\"accept\")\n",
    "    else:\n",
    "        print(\"not accept\")\n",
    "s(st)\n"
   ]
  },
  {
   "cell_type": "code",
   "execution_count": 2,
   "metadata": {},
   "outputs": [
    {
     "name": "stdin",
     "output_type": "stream",
     "text": [
      "enter a string bbbb\n"
     ]
    },
    {
     "name": "stdout",
     "output_type": "stream",
     "text": [
      "not accept\n"
     ]
    }
   ],
   "source": [
    "dfa=dict()\n",
    "dfa[(0,'a')]=1\n",
    "dfa[(0,'b')]=2\n",
    "dfa[(1,'a')]=1\n",
    "dfa[(1,'b')]=1\n",
    "dfa[(2,'a')]=2\n",
    "dfa[(2,'b')]=2\n",
    "st=input(\"enter a string\")\n",
    "def s(st):\n",
    "    cs=0\n",
    "    fs=1\n",
    "    for i in st:\n",
    "        cs=dfa[(cs,i)]\n",
    "    if(cs==fs):\n",
    "        print(\"accept\")\n",
    "    else:\n",
    "        print(\"not accept\")\n",
    "s(st)\n"
   ]
  },
  {
   "cell_type": "markdown",
   "metadata": {},
   "source": [
    "*DFA to accept string starting with a using class and objects*"
   ]
  },
  {
   "cell_type": "code",
   "execution_count": 1,
   "metadata": {},
   "outputs": [
    {
     "name": "stdin",
     "output_type": "stream",
     "text": [
      "enter a string aaa\n"
     ]
    },
    {
     "name": "stdout",
     "output_type": "stream",
     "text": [
      "accept\n"
     ]
    }
   ],
   "source": [
    "dfa=dict()\n",
    "dfa[(0,'a')]=1\n",
    "dfa[(0,'b')]=2\n",
    "dfa[(1,'a')]=1\n",
    "dfa[(1,'b')]=1\n",
    "dfa[(2,'a')]=2\n",
    "dfa[(2,'b')]=2\n",
    "class String_a:\n",
    "    def __init__(self,dfa):\n",
    "        self.current_state=0\n",
    "        self.final_state=1\n",
    "    def moves(self,st):\n",
    "        for i in st:\n",
    "            self.current_state=dfa[(self.current_state,i)]\n",
    "        if(self.current_state==self.final_state):\n",
    "            print(\"accept\")\n",
    "        else:\n",
    "            print(\"not accept\")\n",
    "st=input(\"enter a string\")\n",
    "ob=String_a(dfa)\n",
    "ob.moves(st)\n"
   ]
  },
  {
   "cell_type": "code",
   "execution_count": 2,
   "metadata": {},
   "outputs": [
    {
     "name": "stdin",
     "output_type": "stream",
     "text": [
      "enter a string \n"
     ]
    },
    {
     "name": "stdout",
     "output_type": "stream",
     "text": [
      "not accept\n"
     ]
    }
   ],
   "source": [
    "dfa=dict()\n",
    "dfa[(0,'a')]=1\n",
    "dfa[(0,'b')]=2\n",
    "dfa[(1,'a')]=1\n",
    "dfa[(1,'b')]=1\n",
    "dfa[(2,'a')]=2\n",
    "dfa[(2,'b')]=2\n",
    "class String_a:\n",
    "    def __init__(self,dfa):\n",
    "        self.current_state=0\n",
    "        self.final_state=1\n",
    "    def moves(self,st):\n",
    "        for i in st:\n",
    "            self.current_state=dfa[(self.current_state,i)]\n",
    "        if(self.current_state==self.final_state):\n",
    "            print(\"accept\")\n",
    "        else:\n",
    "            print(\"not accept\")\n",
    "st=input(\"enter a string\")\n",
    "ob=String_a(dfa)\n",
    "ob.moves(st)\n"
   ]
  },
  {
   "cell_type": "code",
   "execution_count": null,
   "metadata": {},
   "outputs": [],
   "source": []
  }
 ],
 "metadata": {
  "kernelspec": {
   "display_name": "Python 3",
   "language": "python",
   "name": "python3"
  },
  "language_info": {
   "codemirror_mode": {
    "name": "ipython",
    "version": 3
   },
   "file_extension": ".py",
   "mimetype": "text/x-python",
   "name": "python",
   "nbconvert_exporter": "python",
   "pygments_lexer": "ipython3",
   "version": "3.7.3"
  }
 },
 "nbformat": 4,
 "nbformat_minor": 4
}
