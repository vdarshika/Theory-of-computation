{
 "cells": [
  {
   "cell_type": "markdown",
   "metadata": {},
   "source": [
    "*Program to implement QUEUE*"
   ]
  },
  {
   "cell_type": "code",
   "execution_count": 1,
   "metadata": {},
   "outputs": [
    {
     "name": "stdout",
     "output_type": "stream",
     "text": [
      "[13]\n",
      "[13, 23]\n",
      "[13, 23, 33]\n",
      "[13, 23, 33, 43]\n",
      "[13, 23, 33, 43, 53]\n",
      "[13, 23, 33, 43, 53, 63]\n",
      "[23, 33, 43, 53, 63]\n",
      "5\n"
     ]
    }
   ],
   "source": [
    "class Queue:\n",
    "    def __init__(self):\n",
    "        self.l=[]\n",
    "    def enqueue(self,x):\n",
    "        self.l.append(x)\n",
    "        print(self.l)\n",
    "    def dequeue(self):\n",
    "        self.l.pop(0)\n",
    "        print(self.l)\n",
    "    def size(self):\n",
    "        return(len(self.l))\n",
    "q=Queue()\n",
    "q.enqueue(13)\n",
    "q.enqueue(23)\n",
    "q.enqueue(33)\n",
    "q.enqueue(43)\n",
    "q.enqueue(53)\n",
    "q.enqueue(63)\n",
    "q.dequeue()\n",
    "print(q.size())\n"
   ]
  },
  {
   "cell_type": "markdown",
   "metadata": {},
   "source": [
    "*Program to implement QUEUE in which addition and deletion is possible from both the ends(DEQUEUE)*"
   ]
  },
  {
   "cell_type": "code",
   "execution_count": null,
   "metadata": {},
   "outputs": [],
   "source": []
  }
 ],
 "metadata": {
  "kernelspec": {
   "display_name": "Python 3",
   "language": "python",
   "name": "python3"
  },
  "language_info": {
   "codemirror_mode": {
    "name": "ipython",
    "version": 3
   },
   "file_extension": ".py",
   "mimetype": "text/x-python",
   "name": "python",
   "nbconvert_exporter": "python",
   "pygments_lexer": "ipython3",
   "version": "3.7.3"
  }
 },
 "nbformat": 4,
 "nbformat_minor": 4
}
