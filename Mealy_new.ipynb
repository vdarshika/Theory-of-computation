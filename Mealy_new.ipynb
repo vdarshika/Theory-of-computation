{
 "cells": [
  {
   "cell_type": "markdown",
   "metadata": {},
   "source": [
    "* Mealy machine which will increment the given binary number by 1*"
   ]
  },
  {
   "cell_type": "code",
   "execution_count": 4,
   "metadata": {},
   "outputs": [
    {
     "name": "stdin",
     "output_type": "stream",
     "text": [
      "Enter a string 10101010001\n"
     ]
    },
    {
     "name": "stdout",
     "output_type": "stream",
     "text": [
      "10101010010\n"
     ]
    }
   ],
   "source": [
    "dfa=dict()\n",
    "dfa[(0,'0')]=(1,'1')\n",
    "dfa[(0,'1')]=(0,'0')\n",
    "dfa[(1,'0')]=(1,'0')\n",
    "dfa[(1,'1')]=(1,'1')\n",
    "s=input(\"Enter a string\")\n",
    "s=s[::-1]\n",
    "class mealy:\n",
    "  def __init__(self,dfa):\n",
    "    self.cs=0\n",
    "  def moves(self,s):\n",
    "    y=''\n",
    "    for i in s:\n",
    "        self.x=self.cs\n",
    "        self.cs=dfa[self.cs,i][0]\n",
    "        y=y+dfa[self.x,i][1]\n",
    "    print(y[::-1])\n",
    "ob=mealy(dfa)\n",
    "ob.moves(s)"
   ]
  },
  {
   "cell_type": "code",
   "execution_count": null,
   "metadata": {},
   "outputs": [],
   "source": []
  }
 ],
 "metadata": {
  "kernelspec": {
   "display_name": "Python 3",
   "language": "python",
   "name": "python3"
  },
  "language_info": {
   "codemirror_mode": {
    "name": "ipython",
    "version": 3
   },
   "file_extension": ".py",
   "mimetype": "text/x-python",
   "name": "python",
   "nbconvert_exporter": "python",
   "pygments_lexer": "ipython3",
   "version": "3.7.3"
  }
 },
 "nbformat": 4,
 "nbformat_minor": 4
}
