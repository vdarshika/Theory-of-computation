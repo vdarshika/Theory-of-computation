{
 "cells": [
  {
   "cell_type": "markdown",
   "metadata": {},
   "source": [
    "*Dfa that accepts a string that ends with 00 over alphabet 0,1*"
   ]
  },
  {
   "cell_type": "code",
   "execution_count": 1,
   "metadata": {},
   "outputs": [
    {
     "name": "stdin",
     "output_type": "stream",
     "text": [
      "enter a string 10100\n"
     ]
    },
    {
     "name": "stdout",
     "output_type": "stream",
     "text": [
      "String accepted\n"
     ]
    }
   ],
   "source": [
    "dfa=dict()\n",
    "dfa[(0,'0')]=1\n",
    "dfa[(0,'1')]=0\n",
    "dfa[(1,'0')]=2\n",
    "dfa[(1,'1')]=0\n",
    "dfa[(2,'0')]=2\n",
    "dfa[(2,'1')]=0\n",
    "st=input(\"enter a string\")\n",
    "class dar:\n",
    "    def __init__(self):\n",
    "       self.st=0\n",
    "       self.cs=0\n",
    "       self.fs=2\n",
    "    def moves(self,st):\n",
    "        for i in st:\n",
    "            self.cs=dfa[self.cs,i]\n",
    "        if(self.cs==self.fs):\n",
    "            print(\"String accepted\")\n",
    "        else:\n",
    "            print(\"Not valid string\")\n",
    "ob=dar()\n",
    "ob.moves(st)"
   ]
  },
  {
   "cell_type": "code",
   "execution_count": 3,
   "metadata": {},
   "outputs": [
    {
     "name": "stdin",
     "output_type": "stream",
     "text": [
      "enter a string 10101101\n"
     ]
    },
    {
     "name": "stdout",
     "output_type": "stream",
     "text": [
      "Not valid string\n"
     ]
    }
   ],
   "source": [
    "dfa=dict()\n",
    "dfa[(0,'0')]=1\n",
    "dfa[(0,'1')]=0\n",
    "dfa[(1,'0')]=2\n",
    "dfa[(1,'1')]=0\n",
    "dfa[(2,'0')]=2\n",
    "dfa[(2,'1')]=0\n",
    "st=input(\"enter a string\")\n",
    "class dar:\n",
    "    def __init__(self):\n",
    "       self.st=0\n",
    "       self.cs=0\n",
    "       self.fs=2\n",
    "    def moves(self,st):\n",
    "        for i in st:\n",
    "            self.cs=dfa[self.cs,i]\n",
    "        if(self.cs==self.fs):\n",
    "            print(\"String accepted\")\n",
    "        else:\n",
    "            print(\"Not valid string\")\n",
    "ob=dar()\n",
    "ob.moves(st)"
   ]
  },
  {
   "cell_type": "markdown",
   "metadata": {},
   "source": [
    "* Dfa for accepting decimal number divisible by 2*"
   ]
  },
  {
   "cell_type": "code",
   "execution_count": 2,
   "metadata": {},
   "outputs": [
    {
     "name": "stdin",
     "output_type": "stream",
     "text": [
      "enter a string 1023\n"
     ]
    },
    {
     "name": "stdout",
     "output_type": "stream",
     "text": [
      "Not valid string\n"
     ]
    }
   ],
   "source": [
    "dfa=dict()\n",
    "dfa[(0,'0')]=0\n",
    "dfa[(0,'1')]=1\n",
    "dfa[(0,'2')]=0\n",
    "dfa[(0,'3')]=1\n",
    "dfa[(0,'4')]=0\n",
    "dfa[(0,'5')]=1\n",
    "dfa[(0,'6')]=0\n",
    "dfa[(0,'7')]=1\n",
    "dfa[(0,'8')]=0\n",
    "dfa[(0,'9')]=1\n",
    "dfa[(1,'0')]=0\n",
    "dfa[(1,'1')]=1\n",
    "dfa[(1,'2')]=0\n",
    "dfa[(1,'3')]=1\n",
    "dfa[(1,'4')]=0\n",
    "dfa[(1,'5')]=1\n",
    "dfa[(1,'6')]=0\n",
    "dfa[(1,'7')]=1\n",
    "dfa[(1,'8')]=0\n",
    "dfa[(1,'9')]=1\n",
    "st=input(\"enter a string\")\n",
    "class dar:\n",
    "    def __init__(self):\n",
    "       self.cs=0\n",
    "       self.fs=0\n",
    "    def moves(self,st):\n",
    "        for i in st:\n",
    "            self.cs=dfa[self.cs,i]\n",
    "        if(self.cs==self.fs):\n",
    "            print(\"String accepted\")\n",
    "        else:\n",
    "            print(\"Not valid string\")\n",
    "ob=dar()\n",
    "ob.moves(st)"
   ]
  },
  {
   "cell_type": "code",
   "execution_count": 3,
   "metadata": {},
   "outputs": [
    {
     "name": "stdin",
     "output_type": "stream",
     "text": [
      "enter a string 2046\n"
     ]
    },
    {
     "name": "stdout",
     "output_type": "stream",
     "text": [
      "String accepted\n"
     ]
    }
   ],
   "source": [
    "dfa=dict()\n",
    "dfa[(0,'0')]=0\n",
    "dfa[(0,'1')]=1\n",
    "dfa[(0,'2')]=0\n",
    "dfa[(0,'3')]=1\n",
    "dfa[(0,'4')]=0\n",
    "dfa[(0,'5')]=1\n",
    "dfa[(0,'6')]=0\n",
    "dfa[(0,'7')]=1\n",
    "dfa[(0,'8')]=0\n",
    "dfa[(0,'9')]=1\n",
    "dfa[(1,'0')]=0\n",
    "dfa[(1,'1')]=1\n",
    "dfa[(1,'2')]=0\n",
    "dfa[(1,'3')]=1\n",
    "dfa[(1,'4')]=0\n",
    "dfa[(1,'5')]=1\n",
    "dfa[(1,'6')]=0\n",
    "dfa[(1,'7')]=1\n",
    "dfa[(1,'8')]=0\n",
    "dfa[(1,'9')]=1\n",
    "st=input(\"enter a string\")\n",
    "class dar:\n",
    "    def __init__(self):\n",
    "       self.cs=0\n",
    "       self.fs=0\n",
    "    def moves(self,st):\n",
    "        for i in st:\n",
    "            self.cs=dfa[self.cs,i]\n",
    "        if(self.cs==self.fs):\n",
    "            print(\"String accepted\")\n",
    "        else:\n",
    "            print(\"Not valid string\")\n",
    "ob=dar()\n",
    "ob.moves(st)"
   ]
  },
  {
   "cell_type": "markdown",
   "metadata": {},
   "source": [
    "* Dfa to accept a string with odd number of 0's and 1's over alphabet 0,1*"
   ]
  },
  {
   "cell_type": "code",
   "execution_count": 13,
   "metadata": {},
   "outputs": [
    {
     "name": "stdin",
     "output_type": "stream",
     "text": [
      "enter a string 101010\n"
     ]
    },
    {
     "name": "stdout",
     "output_type": "stream",
     "text": [
      "String accepted\n"
     ]
    }
   ],
   "source": [
    "dfa=dict()\n",
    "dfa[(0,'1')]=1\n",
    "dfa[(0,'0')]=3\n",
    "dfa[(1,'0')]=2\n",
    "dfa[(1,'1')]=0\n",
    "dfa[(2,'1')]=3\n",
    "dfa[(2,'0')]=1\n",
    "dfa[(3,'0')]=0\n",
    "dfa[(3,'1')]=2\n",
    "st=input(\"enter a string\")\n",
    "class dar:\n",
    "    def __init__(self):\n",
    "       self.cs=0\n",
    "       self.fs=2\n",
    "    def moves(self,st):\n",
    "        for i in st:\n",
    "            self.cs=dfa[self.cs,i]\n",
    "        if(self.cs==self.fs):\n",
    "            print(\"String accepted\")\n",
    "        else:\n",
    "            print(\"Not valid string\")\n",
    "ob=dar()\n",
    "ob.moves(st)"
   ]
  },
  {
   "cell_type": "code",
   "execution_count": 14,
   "metadata": {},
   "outputs": [
    {
     "name": "stdin",
     "output_type": "stream",
     "text": [
      "enter a string 1010\n"
     ]
    },
    {
     "name": "stdout",
     "output_type": "stream",
     "text": [
      "Not valid string\n"
     ]
    }
   ],
   "source": [
    "dfa=dict()\n",
    "dfa[(0,'1')]=1\n",
    "dfa[(0,'0')]=3\n",
    "dfa[(1,'0')]=2\n",
    "dfa[(1,'1')]=0\n",
    "dfa[(2,'1')]=3\n",
    "dfa[(2,'0')]=1\n",
    "dfa[(3,'0')]=0\n",
    "dfa[(3,'1')]=2\n",
    "st=input(\"enter a string\")\n",
    "class dar:\n",
    "    def __init__(self):\n",
    "       self.cs=0\n",
    "       self.fs=2\n",
    "    def moves(self,st):\n",
    "        for i in st:\n",
    "            self.cs=dfa[self.cs,i]\n",
    "        if(self.cs==self.fs):\n",
    "            print(\"String accepted\")\n",
    "        else:\n",
    "            print(\"Not valid string\")\n",
    "ob=dar()\n",
    "ob.moves(st)"
   ]
  },
  {
   "cell_type": "markdown",
   "metadata": {},
   "source": [
    "* Dfa to accept a string with odd number of 0's and even numbers of 1's over alphabet 0,1*"
   ]
  },
  {
   "cell_type": "code",
   "execution_count": 16,
   "metadata": {},
   "outputs": [
    {
     "name": "stdin",
     "output_type": "stream",
     "text": [
      "enter a string 110\n"
     ]
    },
    {
     "name": "stdout",
     "output_type": "stream",
     "text": [
      "String accepted\n"
     ]
    }
   ],
   "source": [
    "dfa=dict()\n",
    "dfa[(0,'1')]=1\n",
    "dfa[(0,'0')]=3\n",
    "dfa[(1,'0')]=2\n",
    "dfa[(1,'1')]=0\n",
    "dfa[(2,'1')]=3\n",
    "dfa[(2,'0')]=1\n",
    "dfa[(3,'0')]=0\n",
    "dfa[(3,'1')]=2\n",
    "st=input(\"enter a string\")\n",
    "class dar:\n",
    "    def __init__(self):\n",
    "       self.cs=0\n",
    "       self.fs=3\n",
    "    def moves(self,st):\n",
    "        for i in st:\n",
    "            self.cs=dfa[self.cs,i]\n",
    "        if(self.cs==self.fs):\n",
    "            print(\"String accepted\")\n",
    "        else:\n",
    "            print(\"Not valid string\")\n",
    "ob=dar()\n",
    "ob.moves(st)"
   ]
  },
  {
   "cell_type": "code",
   "execution_count": 18,
   "metadata": {},
   "outputs": [
    {
     "name": "stdin",
     "output_type": "stream",
     "text": [
      "enter a string 100\n"
     ]
    },
    {
     "name": "stdout",
     "output_type": "stream",
     "text": [
      "Not valid string\n"
     ]
    }
   ],
   "source": [
    "dfa=dict()\n",
    "dfa[(0,'1')]=1\n",
    "dfa[(0,'0')]=3\n",
    "dfa[(1,'0')]=2\n",
    "dfa[(1,'1')]=0\n",
    "dfa[(2,'1')]=3\n",
    "dfa[(2,'0')]=1\n",
    "dfa[(3,'0')]=0\n",
    "dfa[(3,'1')]=2\n",
    "st=input(\"enter a string\")\n",
    "class dar:\n",
    "    def __init__(self):\n",
    "       self.cs=0\n",
    "       self.fs=3\n",
    "    def moves(self,st):\n",
    "        for i in st:\n",
    "            self.cs=dfa[self.cs,i]\n",
    "        if(self.cs==self.fs):\n",
    "            print(\"String accepted\")\n",
    "        else:\n",
    "            print(\"Not valid string\")\n",
    "ob=dar()\n",
    "ob.moves(st)"
   ]
  },
  {
   "cell_type": "code",
   "execution_count": null,
   "metadata": {},
   "outputs": [],
   "source": [
    "* Dfa to accept a string with even number of 0's and odd numbers of 1's over alphabet 0,1*"
   ]
  },
  {
   "cell_type": "code",
   "execution_count": 21,
   "metadata": {},
   "outputs": [
    {
     "name": "stdin",
     "output_type": "stream",
     "text": [
      "enter a string 1001001\n"
     ]
    },
    {
     "name": "stdout",
     "output_type": "stream",
     "text": [
      "String accepted\n"
     ]
    }
   ],
   "source": [
    "dfa=dict()\n",
    "dfa[(0,'0')]=1\n",
    "dfa[(0,'1')]=3\n",
    "dfa[(1,'1')]=2\n",
    "dfa[(1,'0')]=0\n",
    "dfa[(2,'0')]=3\n",
    "dfa[(2,'1')]=1\n",
    "dfa[(3,'1')]=0\n",
    "dfa[(3,'0')]=2\n",
    "st=input(\"enter a string\")\n",
    "class dar:\n",
    "    def __init__(self):\n",
    "       self.cs=0\n",
    "       self.fs=3\n",
    "    def moves(self,st):\n",
    "        for i in st:\n",
    "            self.cs=dfa[self.cs,i]\n",
    "        if(self.cs==self.fs):\n",
    "            print(\"String accepted\")\n",
    "        else:\n",
    "            print(\"Not valid string\")\n",
    "ob=dar()\n",
    "ob.moves(st)"
   ]
  },
  {
   "cell_type": "code",
   "execution_count": 22,
   "metadata": {},
   "outputs": [
    {
     "name": "stdin",
     "output_type": "stream",
     "text": [
      "enter a string 1010\n"
     ]
    },
    {
     "name": "stdout",
     "output_type": "stream",
     "text": [
      "Not valid string\n"
     ]
    }
   ],
   "source": [
    "dfa=dict()\n",
    "dfa[(0,'0')]=1\n",
    "dfa[(0,'1')]=3\n",
    "dfa[(1,'1')]=2\n",
    "dfa[(1,'0')]=0\n",
    "dfa[(2,'0')]=3\n",
    "dfa[(2,'1')]=1\n",
    "dfa[(3,'1')]=0\n",
    "dfa[(3,'0')]=2\n",
    "st=input(\"enter a string\")\n",
    "class dar:\n",
    "    def __init__(self):\n",
    "       self.cs=0\n",
    "       self.fs=3\n",
    "    def moves(self,st):\n",
    "        for i in st:\n",
    "            self.cs=dfa[self.cs,i]\n",
    "        if(self.cs==self.fs):\n",
    "            print(\"String accepted\")\n",
    "        else:\n",
    "            print(\"Not valid string\")\n",
    "ob=dar()\n",
    "ob.moves(st)"
   ]
  },
  {
   "cell_type": "markdown",
   "metadata": {},
   "source": [
    "*Dfa that never recognizes a string with two consecutive a's over alphabet a,b*"
   ]
  },
  {
   "cell_type": "code",
   "execution_count": 27,
   "metadata": {},
   "outputs": [
    {
     "name": "stdin",
     "output_type": "stream",
     "text": [
      "enter a string aaba\n"
     ]
    },
    {
     "name": "stdout",
     "output_type": "stream",
     "text": [
      "Not valid string\n"
     ]
    }
   ],
   "source": [
    "dfa=dict()\n",
    "dfa[(0,'a')]=1\n",
    "dfa[(0,'b')]=1\n",
    "dfa[(1,'a')]=3\n",
    "dfa[(1,'b')]=0\n",
    "dfa[(3,'a')]=3\n",
    "dfa[(3,'b')]=3\n",
    "st=input(\"enter a string\")\n",
    "class dar:\n",
    "    def __init__(self):\n",
    "       self.cs=0\n",
    "       self.fs=0 or 1\n",
    "    def moves(self,st):\n",
    "        for i in st:\n",
    "            self.cs=dfa[self.cs,i]\n",
    "        if(self.cs==self.fs):\n",
    "            print(\"String accepted\")\n",
    "        else:\n",
    "            print(\"Not valid string\")\n",
    "ob=dar()\n",
    "ob.moves(st)"
   ]
  },
  {
   "cell_type": "markdown",
   "metadata": {},
   "source": [
    "*Dfa accepts those string which starts with 1 and ends with 0 over alphabet 0,1.*"
   ]
  },
  {
   "cell_type": "code",
   "execution_count": 30,
   "metadata": {},
   "outputs": [
    {
     "name": "stdin",
     "output_type": "stream",
     "text": [
      "enter a string 101010\n"
     ]
    },
    {
     "name": "stdout",
     "output_type": "stream",
     "text": [
      "String accepted\n"
     ]
    }
   ],
   "source": [
    "dfa=dict()\n",
    "dfa[(0,'1')]=1\n",
    "dfa[(0,'0')]=3\n",
    "dfa[(1,'0')]=2\n",
    "dfa[(1,'1')]=1\n",
    "dfa[(2,'0')]=2\n",
    "dfa[(2,'1')]=1\n",
    "dfa[(3,'1')]=3\n",
    "dfa[(3,'0')]=3\n",
    "st=input(\"enter a string\")\n",
    "class dar:\n",
    "    def __init__(self):\n",
    "       self.cs=0\n",
    "       self.fs=2\n",
    "    def moves(self,st):\n",
    "        for i in st:\n",
    "            self.cs=dfa[self.cs,i]\n",
    "        if(self.cs==self.fs):\n",
    "            print(\"String accepted\")\n",
    "        else:\n",
    "            print(\"Not valid string\")\n",
    "ob=dar()\n",
    "ob.moves(st)"
   ]
  },
  {
   "cell_type": "code",
   "execution_count": 29,
   "metadata": {},
   "outputs": [
    {
     "name": "stdin",
     "output_type": "stream",
     "text": [
      "enter a string 0101\n"
     ]
    },
    {
     "name": "stdout",
     "output_type": "stream",
     "text": [
      "Not valid string\n"
     ]
    }
   ],
   "source": [
    "dfa=dict()\n",
    "dfa[(0,'1')]=1\n",
    "dfa[(0,'0')]=3\n",
    "dfa[(1,'0')]=2\n",
    "dfa[(1,'1')]=1\n",
    "dfa[(2,'0')]=2\n",
    "dfa[(2,'1')]=1\n",
    "dfa[(3,'1')]=3\n",
    "dfa[(3,'0')]=3\n",
    "st=input(\"enter a string\")\n",
    "class dar:\n",
    "    def __init__(self):\n",
    "       self.cs=0\n",
    "       self.fs=2\n",
    "    def moves(self,st):\n",
    "        for i in st:\n",
    "            self.cs=dfa[self.cs,i]\n",
    "        if(self.cs==self.fs):\n",
    "            print(\"String accepted\")\n",
    "        else:\n",
    "            print(\"Not valid string\")\n",
    "ob=dar()\n",
    "ob.moves(st)"
   ]
  },
  {
   "cell_type": "markdown",
   "metadata": {},
   "source": [
    "*Dfa accepts the strings with an even number of 0's followed by single 1 over alphabet 0,1*"
   ]
  },
  {
   "cell_type": "code",
   "execution_count": 34,
   "metadata": {},
   "outputs": [
    {
     "name": "stdin",
     "output_type": "stream",
     "text": [
      "enter a string 0101\n"
     ]
    },
    {
     "name": "stdout",
     "output_type": "stream",
     "text": [
      "String accepted\n"
     ]
    }
   ],
   "source": [
    "dfa=dict()\n",
    "dfa[(0,'1')]=2\n",
    "dfa[(0,'0')]=1\n",
    "dfa[(1,'0')]=0\n",
    "dfa[(1,'1')]=1\n",
    "dfa[(2,'0')]=3\n",
    "dfa[(2,'1')]=3\n",
    "dfa[(3,'1')]=3\n",
    "dfa[(3,'0')]=3\n",
    "st=input(\"enter a string\")\n",
    "class dar:\n",
    "    def __init__(self):\n",
    "       self.cs=0\n",
    "       self.fs=2\n",
    "    def moves(self,st):\n",
    "        for i in st:\n",
    "            self.cs=dfa[self.cs,i]\n",
    "        if(self.cs==self.fs):\n",
    "            print(\"String accepted\")\n",
    "        else:\n",
    "            print(\"Not valid string\")\n",
    "ob=dar()\n",
    "ob.moves(st)"
   ]
  },
  {
   "cell_type": "code",
   "execution_count": 35,
   "metadata": {},
   "outputs": [
    {
     "name": "stdin",
     "output_type": "stream",
     "text": [
      "enter a string 010\n"
     ]
    },
    {
     "name": "stdout",
     "output_type": "stream",
     "text": [
      "Not valid string\n"
     ]
    }
   ],
   "source": [
    "dfa=dict()\n",
    "dfa[(0,'1')]=2\n",
    "dfa[(0,'0')]=1\n",
    "dfa[(1,'0')]=0\n",
    "dfa[(1,'1')]=1\n",
    "dfa[(2,'0')]=3\n",
    "dfa[(2,'1')]=3\n",
    "dfa[(3,'1')]=3\n",
    "dfa[(3,'0')]=3\n",
    "st=input(\"enter a string\")\n",
    "class dar:\n",
    "    def __init__(self):\n",
    "       self.cs=0\n",
    "       self.fs=2\n",
    "    def moves(self,st):\n",
    "        for i in st:\n",
    "            self.cs=dfa[self.cs,i]\n",
    "        if(self.cs==self.fs):\n",
    "            print(\"String accepted\")\n",
    "        else:\n",
    "            print(\"Not valid string\")\n",
    "ob=dar()\n",
    "ob.moves(st)"
   ]
  },
  {
   "cell_type": "code",
   "execution_count": null,
   "metadata": {},
   "outputs": [],
   "source": []
  }
 ],
 "metadata": {
  "kernelspec": {
   "display_name": "Python 3",
   "language": "python",
   "name": "python3"
  },
  "language_info": {
   "codemirror_mode": {
    "name": "ipython",
    "version": 3
   },
   "file_extension": ".py",
   "mimetype": "text/x-python",
   "name": "python",
   "nbconvert_exporter": "python",
   "pygments_lexer": "ipython3",
   "version": "3.7.3"
  }
 },
 "nbformat": 4,
 "nbformat_minor": 4
}
