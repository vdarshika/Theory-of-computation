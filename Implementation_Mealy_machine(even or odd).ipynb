{
 "cells": [
  {
   "cell_type": "markdown",
   "metadata": {},
   "source": [
    "*Simulate a  Mealy machine to display odd or even based on the number of 1's\n",
    "IMPLEMENTATION-1*"
   ]
  },
  {
   "cell_type": "code",
   "execution_count": 1,
   "metadata": {},
   "outputs": [
    {
     "name": "stdin",
     "output_type": "stream",
     "text": [
      "Enter a string 1110\n"
     ]
    },
    {
     "name": "stdout",
     "output_type": "stream",
     "text": [
      "1\n",
      "odd\n",
      "0\n",
      "even\n",
      "1\n",
      "odd\n",
      "1\n",
      "odd\n"
     ]
    }
   ],
   "source": [
    "dfa=dict()\n",
    "dfa[(0,'0')]=(0,'even')\n",
    "dfa[(0,'1')]=(1,'odd')\n",
    "dfa[(1,'0')]=(1,'odd')\n",
    "dfa[(1,'1')]=(0,'even')\n",
    "s=input(\"Enter a string\")\n",
    "class mealy:\n",
    "    def __init__(self,dfa):\n",
    "        self.current_state=0\n",
    "        self.current_state1=0\n",
    "    def moves(self,s):\n",
    "        for i in s:\n",
    "            self.current_state1=self.current_state\n",
    "            self.current_state=dfa[self.current_state,i][0]\n",
    "            print(self.current_state)\n",
    "            print(dfa[self.current_state1,i][1])\n",
    "ob=mealy(dfa)\n",
    "ob.moves(s)"
   ]
  },
  {
   "cell_type": "code",
   "execution_count": 2,
   "metadata": {},
   "outputs": [
    {
     "name": "stdin",
     "output_type": "stream",
     "text": [
      "Enter a string 11011\n"
     ]
    },
    {
     "name": "stdout",
     "output_type": "stream",
     "text": [
      "1\n",
      "odd\n",
      "0\n",
      "even\n",
      "0\n",
      "even\n",
      "1\n",
      "odd\n",
      "0\n",
      "even\n"
     ]
    }
   ],
   "source": [
    "dfa=dict()\n",
    "dfa[(0,'0')]=(0,'even')\n",
    "dfa[(0,'1')]=(1,'odd')\n",
    "dfa[(1,'0')]=(1,'odd')\n",
    "dfa[(1,'1')]=(0,'even')\n",
    "s=input(\"Enter a string\")\n",
    "class mealy:\n",
    "    def __init__(self,dfa):\n",
    "        self.current_state=0\n",
    "        self.current_state1=0\n",
    "    def moves(self,s):\n",
    "        for i in s:\n",
    "            self.current_state1=self.current_state\n",
    "            self.current_state=dfa[self.current_state,i][0]\n",
    "            print(self.current_state)\n",
    "            print(dfa[self.current_state1,i][1])\n",
    "ob=mealy(dfa)\n",
    "ob.moves(s)"
   ]
  },
  {
   "cell_type": "markdown",
   "metadata": {},
   "source": [
    "*Simulate a  Mealy machine to display odd or even based on the number of 1's\n",
    "IMPLEMENTATION-2*"
   ]
  },
  {
   "cell_type": "code",
   "execution_count": 3,
   "metadata": {},
   "outputs": [
    {
     "name": "stdin",
     "output_type": "stream",
     "text": [
      "Enter a string 10\n"
     ]
    },
    {
     "name": "stdout",
     "output_type": "stream",
     "text": [
      "1\n",
      "odd\n",
      "1\n",
      "odd\n"
     ]
    }
   ],
   "source": [
    "dfa1={}\n",
    "dfa1[(0,'0')]=0\n",
    "dfa1[(0,'1')]=1\n",
    "dfa1[(1,'0')]=1\n",
    "dfa1[(1,'1')]=0\n",
    "dfa2={}\n",
    "dfa2[(0,'0')]='even'\n",
    "dfa2[(0,'1')]='odd'\n",
    "dfa2[(1,'0')]='odd'\n",
    "dfa2[(1,'1')]='even'\n",
    "s=input(\"Enter a string\")\n",
    "class mealy:\n",
    "    def __init__(self,dfa1,dfa2):\n",
    "        self.current_state=0\n",
    "        self.current_state1=0\n",
    "    def moves(self,s):\n",
    "        for i in s:\n",
    "            self.current_state1=dfa1[self.current_state,i]\n",
    "            print(self.current_state1)\n",
    "            print(dfa2[self.current_state,i])\n",
    "            self.current_state=self.current_state1\n",
    "ob=mealy(dfa1,dfa2)\n",
    "ob.moves(s)"
   ]
  },
  {
   "cell_type": "code",
   "execution_count": 4,
   "metadata": {},
   "outputs": [
    {
     "name": "stdin",
     "output_type": "stream",
     "text": [
      "Enter a string 110\n"
     ]
    },
    {
     "name": "stdout",
     "output_type": "stream",
     "text": [
      "1\n",
      "odd\n",
      "0\n",
      "even\n",
      "0\n",
      "even\n"
     ]
    }
   ],
   "source": [
    "dfa1={}\n",
    "dfa1[(0,'0')]=0\n",
    "dfa1[(0,'1')]=1\n",
    "dfa1[(1,'0')]=1\n",
    "dfa1[(1,'1')]=0\n",
    "dfa2={}\n",
    "dfa2[(0,'0')]='even'\n",
    "dfa2[(0,'1')]='odd'\n",
    "dfa2[(1,'0')]='odd'\n",
    "dfa2[(1,'1')]='even'\n",
    "s=input(\"Enter a string\")\n",
    "class mealy:\n",
    "    def __init__(self,dfa1,dfa2):\n",
    "        self.current_state=0\n",
    "        self.current_state1=0\n",
    "    def moves(self,s):\n",
    "        for i in s:\n",
    "            self.current_state1=dfa1[self.current_state,i]\n",
    "            print(self.current_state1)\n",
    "            print(dfa2[self.current_state,i])\n",
    "            self.current_state=self.current_state1\n",
    "ob=mealy(dfa1,dfa2)\n",
    "ob.moves(s)"
   ]
  },
  {
   "cell_type": "markdown",
   "metadata": {},
   "source": [
    "*Simulate a  Mealy machine to display odd or even based on the number of 1's\n",
    "IMPLEMENTATION-3*"
   ]
  },
  {
   "cell_type": "code",
   "execution_count": 6,
   "metadata": {},
   "outputs": [
    {
     "name": "stdin",
     "output_type": "stream",
     "text": [
      "enter a string 11\n"
     ]
    },
    {
     "name": "stdout",
     "output_type": "stream",
     "text": [
      "1\n",
      "odd\n",
      "0\n",
      "even\n"
     ]
    }
   ],
   "source": [
    "dfa={0:{'0':(0,'even'),'1':(1,'odd')},1:{'0':(1,'odd'),'1':(0,'even')}}\n",
    "s=input(\"enter a string\")\n",
    "def mealy(s):\n",
    "  current_state=0\n",
    "  current_state1=0\n",
    "  for i in s:\n",
    "      current_state1=current_state\n",
    "      current_state=dfa[current_state][i][0]\n",
    "      print(current_state)\n",
    "      output=dfa[current_state1][i][1]\n",
    "      print(output)\n",
    "mealy(s)"
   ]
  },
  {
   "cell_type": "code",
   "execution_count": 7,
   "metadata": {},
   "outputs": [
    {
     "name": "stdin",
     "output_type": "stream",
     "text": [
      "enter a string 101010\n"
     ]
    },
    {
     "name": "stdout",
     "output_type": "stream",
     "text": [
      "1\n",
      "odd\n",
      "1\n",
      "odd\n",
      "0\n",
      "even\n",
      "0\n",
      "even\n",
      "1\n",
      "odd\n",
      "1\n",
      "odd\n"
     ]
    }
   ],
   "source": [
    "dfa={0:{'0':(0,'even'),'1':(1,'odd')},1:{'0':(1,'odd'),'1':(0,'even')}}\n",
    "s=input(\"enter a string\")\n",
    "def mealy(s):\n",
    "  current_state=0\n",
    "  current_state1=0\n",
    "  for i in s:\n",
    "      current_state1=current_state\n",
    "      current_state=dfa[current_state][i][0]\n",
    "      print(current_state)\n",
    "      output=dfa[current_state1][i][1]\n",
    "      print(output)\n",
    "mealy(s)"
   ]
  }
 ],
 "metadata": {
  "kernelspec": {
   "display_name": "Python 3",
   "language": "python",
   "name": "python3"
  },
  "language_info": {
   "codemirror_mode": {
    "name": "ipython",
    "version": 3
   },
   "file_extension": ".py",
   "mimetype": "text/x-python",
   "name": "python",
   "nbconvert_exporter": "python",
   "pygments_lexer": "ipython3",
   "version": "3.7.3"
  }
 },
 "nbformat": 4,
 "nbformat_minor": 4
}
