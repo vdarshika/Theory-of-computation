{
 "cells": [
  {
   "cell_type": "markdown",
   "metadata": {},
   "source": [
    "*Basic Stack *"
   ]
  },
  {
   "cell_type": "code",
   "execution_count": 1,
   "metadata": {},
   "outputs": [
    {
     "name": "stdout",
     "output_type": "stream",
     "text": [
      "[32]\n",
      "[32, 34]\n",
      "[32, 34, 36]\n",
      "[32, 34, 36, 37]\n",
      "[32, 34, 36, 37, 38]\n",
      "[32, 34, 36, 37, 38, 39]\n",
      "[32, 34, 36, 37, 38]\n"
     ]
    }
   ],
   "source": [
    "class Stack:\n",
    "    def __init__(self):\n",
    "        self.l=[]\n",
    "    def push(self,x):\n",
    "        self.l.append(x)\n",
    "        print(self.l)\n",
    "    def pop(self):\n",
    "        self.l.pop()\n",
    "        print(self.l)\n",
    "    def isempty(self):\n",
    "        return len(l)==0\n",
    "a=Stack()\n",
    "a.push(32)\n",
    "a.push(34)\n",
    "a.push(36)\n",
    "a.push(37)\n",
    "a.push(38)\n",
    "a.push(39)\n",
    "a.pop()"
   ]
  },
  {
   "cell_type": "markdown",
   "metadata": {},
   "source": [
    "*Check balanced paranthesis using Stack*"
   ]
  },
  {
   "cell_type": "code",
   "execution_count": 2,
   "metadata": {},
   "outputs": [
    {
     "name": "stdin",
     "output_type": "stream",
     "text": [
      "Enter a string: ((((()))))\n"
     ]
    },
    {
     "name": "stdout",
     "output_type": "stream",
     "text": [
      "['(']\n",
      "['(', '(']\n",
      "['(', '(', '(']\n",
      "['(', '(', '(', '(']\n",
      "['(', '(', '(', '(', '(']\n",
      "['(', '(', '(', '(']\n",
      "['(', '(', '(']\n",
      "['(', '(']\n",
      "['(']\n",
      "[]\n",
      "Balanced\n"
     ]
    }
   ],
   "source": [
    "s=input(\"Enter a string:\")\n",
    "class Stack:\n",
    "    def __init__(self):\n",
    "        self.l=[]\n",
    "    def push(self,x):\n",
    "        self.l.append(x)\n",
    "        print(self.l)\n",
    "    def pop(self):\n",
    "        self.l.pop()\n",
    "        print(self.l)\n",
    "    def isempty(self):\n",
    "        return self.l==[]\n",
    "a=Stack()\n",
    "for i in s:\n",
    "    flag=False\n",
    "    if(i==\"(\"):\n",
    "        a.push(i)\n",
    "    elif(i==\")\"):\n",
    "        if(a.isempty()):\n",
    "            flag=False\n",
    "            break\n",
    "        a.pop()\n",
    "else:\n",
    "        if(a.isempty()):\n",
    "            flag=True\n",
    "        else:\n",
    "            flag=False\n",
    "if(flag==True):\n",
    "    print(\"Balanced\")\n",
    "else:\n",
    "    print(\" Not Balanced\")"
   ]
  },
  {
   "cell_type": "code",
   "execution_count": 3,
   "metadata": {},
   "outputs": [
    {
     "name": "stdin",
     "output_type": "stream",
     "text": [
      "Enter a string: ((()\n"
     ]
    },
    {
     "name": "stdout",
     "output_type": "stream",
     "text": [
      "['(']\n",
      "['(', '(']\n",
      "['(', '(', '(']\n",
      "['(', '(']\n",
      " Not Balanced\n"
     ]
    }
   ],
   "source": [
    "s=input(\"Enter a string:\")\n",
    "class Stack:\n",
    "    def __init__(self):\n",
    "        self.l=[]\n",
    "    def push(self,x):\n",
    "        self.l.append(x)\n",
    "        print(self.l)\n",
    "    def pop(self):\n",
    "        self.l.pop()\n",
    "        print(self.l)\n",
    "    def isempty(self):\n",
    "        return self.l==[]\n",
    "a=Stack()\n",
    "for i in s:\n",
    "    flag=False\n",
    "    if(i==\"(\"):\n",
    "        a.push(i)\n",
    "    elif(i==\")\"):\n",
    "        if(a.isempty()):\n",
    "            flag=False\n",
    "            break\n",
    "        a.pop()\n",
    "else:\n",
    "        if(a.isempty()):\n",
    "            flag=True\n",
    "        else:\n",
    "            flag=False\n",
    "if(flag==True):\n",
    "    print(\"Balanced\")\n",
    "else:\n",
    "    print(\" Not Balanced\")"
   ]
  },
  {
   "cell_type": "markdown",
   "metadata": {},
   "source": [
    "*Check Balanced Paranthesis using Stack 2*"
   ]
  },
  {
   "cell_type": "code",
   "execution_count": null,
   "metadata": {},
   "outputs": [],
   "source": [
    "s=input(\"Enter a string:\")\n",
    "class Stack:\n",
    "    def __init__(self):\n",
    "        self.l=[]\n",
    "    def push(self,x):\n",
    "        self.l.append(x)\n",
    "        print(self.l)\n",
    "    def pop(self):\n",
    "        self.l.pop()\n",
    "        print(self.l)\n",
    "    def isempty(self):\n",
    "        return self.l==[]\n",
    "a=Stack()\n",
    "for i in s:\n",
    "    flag=False\n",
    "    if(i==\"(\" or i==\"{\" or i==\"[\"):\n",
    "        a.push(i)\n",
    "    elif(i==\")\" or i==\"}\" or i==\"]\"):\n",
    "        if(a.isempty()):\n",
    "            flag=False\n",
    "            break\n",
    "        a.pop()\n",
    "else:\n",
    "        if(a.isempty()):\n",
    "            flag=True\n",
    "        else:\n",
    "            flag=False\n",
    "if(flag==True):\n",
    "    print(\"Balanced\")\n",
    "else:\n",
    "    print(\" Not Balanced\")\n"
   ]
  },
  {
   "cell_type": "code",
   "execution_count": null,
   "metadata": {},
   "outputs": [],
   "source": []
  }
 ],
 "metadata": {
  "kernelspec": {
   "display_name": "Python 3",
   "language": "python",
   "name": "python3"
  },
  "language_info": {
   "codemirror_mode": {
    "name": "ipython",
    "version": 3
   },
   "file_extension": ".py",
   "mimetype": "text/x-python",
   "name": "python",
   "nbconvert_exporter": "python",
   "pygments_lexer": "ipython3",
   "version": "3.7.3"
  }
 },
 "nbformat": 4,
 "nbformat_minor": 4
}
