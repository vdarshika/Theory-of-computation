{
 "cells": [
  {
   "cell_type": "markdown",
   "metadata": {},
   "source": [
    "*Push Down Automata for a^n b^n*"
   ]
  },
  {
   "cell_type": "code",
   "execution_count": 2,
   "metadata": {},
   "outputs": [
    {
     "name": "stdin",
     "output_type": "stream",
     "text": [
      "Enter a String :   aabbc\n"
     ]
    },
    {
     "name": "stdout",
     "output_type": "stream",
     "text": [
      "['c']\n",
      "['c', 'a']\n",
      "Current State= 1\n",
      "['c', 'a', 'a']\n",
      "Current State= 1\n",
      "['c', 'a']\n",
      "Current State= 2\n",
      "['c']\n",
      "Current State= 2\n",
      "Current State= 3\n",
      "PDA is acceptable !!\n"
     ]
    }
   ],
   "source": [
    "class Stack:\n",
    "    def __init__(self):\n",
    "        self.l=[]\n",
    "    def push(self,x):\n",
    "        self.l.append(x)\n",
    "        print(self.l)\n",
    "    def pop(self):\n",
    "        self.l.pop()\n",
    "        print(self.l)\n",
    "    def isempty(self):\n",
    "        return self.l==[]\n",
    "    def length(self):\n",
    "        return len(self.l)\n",
    "ip=Stack()\n",
    "pda=dict()\n",
    "pda[(0,'a')]=1\n",
    "pda[(0,'b')]=4\n",
    "pda[(0,'c')]=3\n",
    "pda[(1,'a')]=1\n",
    "pda[(1,'b')]=2\n",
    "pda[(1,'c')]=4\n",
    "pda[(2,'b')]=2\n",
    "pda[(2,'a')]=4\n",
    "pda[(2,'c')]=3\n",
    "pda[(3,'c')]=3\n",
    "pda[(3,'a')]=4\n",
    "pda[(3,'b')]=4\n",
    "pda[(4,'a')]=4\n",
    "pda[(4,'b')]=4\n",
    "pda[(4,'c')]=4\n",
    "stack=[]\n",
    "cs=0\n",
    "fs=3\n",
    "n=input(\"Enter a String :  \")\n",
    "ip.push('c')\n",
    "for i in n:\n",
    "    if(i=='a'):\n",
    "        ip.push(i)\n",
    "        cs=pda[cs,i]\n",
    "        print(\"Current State=\",cs)\n",
    "    elif(i=='b'):\n",
    "        ip.pop()\n",
    "        cs=pda[cs,i]\n",
    "        print(\"Current State=\",cs)\n",
    "    if(i=='c'):\n",
    "        cs=pda[cs,i]\n",
    "        print(\"Current State=\",cs)\n",
    "if(ip.length()==1 and cs==fs):\n",
    "    print(\"PDA is acceptable !!\")\n",
    "else:\n",
    "    print(\"PDA cannot accept String !! \")    \n"
   ]
  },
  {
   "cell_type": "code",
   "execution_count": 3,
   "metadata": {},
   "outputs": [
    {
     "name": "stdin",
     "output_type": "stream",
     "text": [
      "Enter a String :   aabbb\n"
     ]
    },
    {
     "name": "stdout",
     "output_type": "stream",
     "text": [
      "['c']\n",
      "['c', 'a']\n",
      "Current State= 1\n",
      "['c', 'a', 'a']\n",
      "Current State= 1\n",
      "['c', 'a']\n",
      "Current State= 2\n",
      "['c']\n",
      "Current State= 2\n",
      "[]\n",
      "Current State= 2\n",
      "PDA cannot accept String !! \n"
     ]
    }
   ],
   "source": [
    "class Stack:\n",
    "    def __init__(self):\n",
    "        self.l=[]\n",
    "    def push(self,x):\n",
    "        self.l.append(x)\n",
    "        print(self.l)\n",
    "    def pop(self):\n",
    "        self.l.pop()\n",
    "        print(self.l)\n",
    "    def isempty(self):\n",
    "        return self.l==[]\n",
    "    def length(self):\n",
    "        return len(self.l)\n",
    "ip=Stack()\n",
    "pda=dict()\n",
    "pda[(0,'a')]=1\n",
    "pda[(0,'b')]=4\n",
    "pda[(0,'c')]=3\n",
    "pda[(1,'a')]=1\n",
    "pda[(1,'b')]=2\n",
    "pda[(1,'c')]=4\n",
    "pda[(2,'b')]=2\n",
    "pda[(2,'a')]=4\n",
    "pda[(2,'c')]=3\n",
    "pda[(3,'c')]=3\n",
    "pda[(3,'a')]=4\n",
    "pda[(3,'b')]=4\n",
    "pda[(4,'a')]=4\n",
    "pda[(4,'b')]=4\n",
    "pda[(4,'c')]=4\n",
    "stack=[]\n",
    "cs=0\n",
    "fs=3\n",
    "n=input(\"Enter a String :  \")\n",
    "ip.push('c')\n",
    "for i in n:\n",
    "    if(i=='a'):\n",
    "        ip.push(i)\n",
    "        cs=pda[cs,i]\n",
    "        print(\"Current State=\",cs)\n",
    "    elif(i=='b'):\n",
    "        ip.pop()\n",
    "        cs=pda[cs,i]\n",
    "        print(\"Current State=\",cs)\n",
    "    if(i=='c'):\n",
    "        cs=pda[cs,i]\n",
    "        print(\"Current State=\",cs)\n",
    "if(ip.length()==1 and cs==fs):\n",
    "    print(\"PDA is acceptable !!\")\n",
    "else:\n",
    "    print(\"PDA cannot accept String !! \")    \n"
   ]
  },
  {
   "cell_type": "code",
   "execution_count": null,
   "metadata": {},
   "outputs": [],
   "source": []
  }
 ],
 "metadata": {
  "kernelspec": {
   "display_name": "Python 3",
   "language": "python",
   "name": "python3"
  },
  "language_info": {
   "codemirror_mode": {
    "name": "ipython",
    "version": 3
   },
   "file_extension": ".py",
   "mimetype": "text/x-python",
   "name": "python",
   "nbconvert_exporter": "python",
   "pygments_lexer": "ipython3",
   "version": "3.7.3"
  }
 },
 "nbformat": 4,
 "nbformat_minor": 4
}
